{
 "cells": [
  {
   "cell_type": "code",
   "execution_count": 2,
   "id": "180c646f-8d83-4b54-85a5-bd9e6e32c313",
   "metadata": {},
   "outputs": [
    {
     "name": "stdout",
     "output_type": "stream",
     "text": [
      "Updated List : [10, 2, 4, 5, 6]\n"
     ]
    }
   ],
   "source": [
    "#Create List...\n",
    "list = [1,2,3,4,5]\n",
    "\n",
    "#adding an element to the List...\n",
    "list.append(6)\n",
    "\n",
    "#removing an element from the List...\n",
    "list.remove(3)\n",
    "\n",
    "#modifying an element from the List\n",
    "list[0] = 10\n",
    "\n",
    "print(\"Updated List :\", list)"
   ]
  },
  {
   "cell_type": "code",
   "execution_count": 2,
   "id": "6e90b6b8-983a-4f39-872b-72957523f221",
   "metadata": {},
   "outputs": [
    {
     "name": "stdout",
     "output_type": "stream",
     "text": [
      "Updated Dictionary {'name': 'Rajeeb', 'state': 'odisha', 'gender': 'Male'}\n"
     ]
    }
   ],
   "source": [
    "#Create dictionary...\n",
    "dict = {'name': 'Rajeeb', 'age': 22, 'state': 'jharkhand'}\n",
    "\n",
    "#adding...\n",
    "dict['gender'] = 'Male'\n",
    "\n",
    "#removing...\n",
    "del dict['age']\n",
    "\n",
    "#modifying...\n",
    "dict['state'] = 'odisha'\n",
    "\n",
    "print(\"Updated Dictionary\", dict)"
   ]
  },
  {
   "cell_type": "code",
   "execution_count": 3,
   "id": "89232f45-681f-434f-8780-26da9f2398ed",
   "metadata": {},
   "outputs": [
    {
     "name": "stdout",
     "output_type": "stream",
     "text": [
      "Updated set : {2, 4, 5, 6, 10}\n"
     ]
    }
   ],
   "source": [
    "#Create set...\n",
    "set = {1,2,3,4,5}\n",
    "\n",
    "#adding...\n",
    "set.add(6)\n",
    "\n",
    "#removing...\n",
    "set.remove(3)\n",
    "\n",
    "#modifying\n",
    "set.discard(1)\n",
    "set.add(10)\n",
    "\n",
    "print(\"Updated set :\", set)"
   ]
  },
  {
   "cell_type": "code",
   "execution_count": null,
   "id": "48e92cb6-87a2-4a60-b53c-cf4ea3dc6cba",
   "metadata": {},
   "outputs": [],
   "source": []
  }
 ],
 "metadata": {
  "kernelspec": {
   "display_name": "Python 3 (ipykernel)",
   "language": "python",
   "name": "python3"
  },
  "language_info": {
   "codemirror_mode": {
    "name": "ipython",
    "version": 3
   },
   "file_extension": ".py",
   "mimetype": "text/x-python",
   "name": "python",
   "nbconvert_exporter": "python",
   "pygments_lexer": "ipython3",
   "version": "3.11.7"
  }
 },
 "nbformat": 4,
 "nbformat_minor": 5
}
